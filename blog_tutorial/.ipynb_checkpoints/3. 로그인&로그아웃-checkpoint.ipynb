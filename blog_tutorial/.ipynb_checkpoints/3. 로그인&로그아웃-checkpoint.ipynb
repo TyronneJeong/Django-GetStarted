{
 "cells": [
  {
   "cell_type": "markdown",
   "metadata": {},
   "source": [
    "# 로그인 과 로그아웃\n",
    "\n",
    "로그인 과 로그 아웃 기능을 구현해보자"
   ]
  },
  {
   "cell_type": "markdown",
   "metadata": {},
   "source": [
    "## 1. Login & Logout URL 추가\n",
    "\n",
    "```python\n",
    "from django.contrib import views as auth_views\n",
    "path('login/', auth_views.LoginView.ad_view(template_name='user/login.html'), name=\"login\"),\n",
    "path('logout/', auth_views.LoginView.ad_view(template_name='user/logout.html'), name=\"logout\"),\n",
    "```"
   ]
  },
  {
   "cell_type": "code",
   "execution_count": 9,
   "metadata": {},
   "outputs": [
    {
     "name": "stdout",
     "output_type": "stream",
     "text": [
      "from django.contrib import admin\n",
      "from django.contrib.auth import views as auth_views\n",
      "from django.urls import include, path\n",
      "from users import views as user_views\n",
      "\n",
      "urlpatterns = [\n",
      "    path('', include('blog.urls')), # include urls.py file in blog\n",
      "    path('register/', user_views.register, name=\"register\"), # include urls.py file in apps\n",
      "    path('login/', auth_views.LoginView.as_view(template_name='users/login.html'), name=\"login\"), # login\n",
      "    path('logout/', auth_views.LoginView.as_view(template_name='users/logout.html'), name=\"logout\"), # logout\n",
      "    path('polls/', include('polls.urls')), # include urls.py file in apps\n",
      "    path('admin/', admin.site.urls),\n",
      "]\n"
     ]
    }
   ],
   "source": [
    "# [프로젝트]/urls.py 에 urls 을 추가\n",
    "!cat ../config/urls.py"
   ]
  },
  {
   "cell_type": "markdown",
   "metadata": {},
   "source": [
    "## 2. Template HTML 작성\n",
    "\n",
    "기존 만들어진 페이지를 불러 쓴다."
   ]
  },
  {
   "cell_type": "code",
   "execution_count": 7,
   "metadata": {},
   "outputs": [
    {
     "name": "stdout",
     "output_type": "stream",
     "text": [
      "{% extends \"blog/base.html\" %}\n",
      "{% load crispy_forms_tags %}\n",
      "{% block content %}\n",
      "    <div class=\"content-section\">\n",
      "        <form method=\"POST\">\n",
      "            {% csrf_token %}\n",
      "            <fieldset class=\"form-group\">\n",
      "                <legend class=\"border-bottom mb-4\">Log In</legend>\n",
      "                {{ form|crispy }}\n",
      "            </fieldset>\n",
      "            <div class=\"form-group\">\n",
      "                <button class=\"btn btn-outline-info\" type=\"submit\">Login</button>\n",
      "            </div>\n",
      "        </form>\n",
      "        <div class=\"border-top pt-3\">\n",
      "            <small class=\"text-muted\">\n",
      "                Need An Account? <a class=\"ml-2\" href=\"{% url 'register' %}\">Sign Up Now</a>\n",
      "            </small>\n",
      "        </div>\n",
      "    </div>\n",
      "{% endblock content %}\n"
     ]
    }
   ],
   "source": [
    "# 로그인 페이지\n",
    "!cat ../users/templates/users/login.html"
   ]
  },
  {
   "cell_type": "code",
   "execution_count": 8,
   "metadata": {},
   "outputs": [
    {
     "name": "stdout",
     "output_type": "stream",
     "text": [
      "{% extends \"blog/base.html\" %}\n",
      "{% block content %}\n",
      "    <h2>You have been logged out</h2>\n",
      "    <div class=\"border-top pt-3\">\n",
      "        <small class=\"text-muted\">\n",
      "            <a href=\"{% url 'login' %}\">Log In Again</a>\n",
      "        </small>\n",
      "    </div>\n",
      "{% endblock content %}\n"
     ]
    }
   ],
   "source": [
    "# 로그아웃 페이지\n",
    "!cat ../users/templates/users/logout.html"
   ]
  },
  {
   "cell_type": "markdown",
   "metadata": {},
   "source": [
    "## 3. setting 정보 추가\n",
    "로그인 완료후 리다이렉트 될 페이지 정보가 필요하므로 정의한다.\n",
    "```python\n",
    "LOGIN_REDIRECT_URL = 'blog-home'\n",
    "```"
   ]
  },
  {
   "cell_type": "markdown",
   "metadata": {},
   "source": [
    "## 4. 회원 가입이 완료 된 이후 로그인 페이지로 이동\n",
    "기존 등록 완료 후, 메인페이지로 이동하던 것에서.  \n",
    "회원 가입 이후 로그인 페이지로 이동 하도록 수정 하여 보자"
   ]
  },
  {
   "cell_type": "code",
   "execution_count": 14,
   "metadata": {
    "scrolled": true
   },
   "outputs": [
    {
     "name": "stdout",
     "output_type": "stream",
     "text": [
      "from django.shortcuts import render, redirect\n",
      "from django.contrib.auth.forms import UserCreationForm\n",
      "from django.contrib import messages\n",
      "from django.contrib.auth.decorators import login_required\n",
      "from .forms import UserRegisterForm\n",
      "\n",
      "def register(request):\n",
      "    if request.method == 'POST':\n",
      "        form = UserRegisterForm(request.POST)\n",
      "        if form.is_valid():\n",
      "            form.save()\n",
      "            username = form.cleaned_data.get('username')\n",
      "            messages.success(request, f'Your account has been created! You are now able to log in!!')\n",
      "            return redirect('login')\n",
      "    else:\n",
      "        form = UserRegisterForm()\n",
      "    return render(request, 'users/register.html', {'form':form})\n",
      "    \n",
      "@login_required\n",
      "def profile(request):\n"
     ]
    }
   ],
   "source": [
    "# Views 에서 회원 가입이 성공하는 경우 리다이렉션 페이지를 기존 blog-home 에서 login 으로 변경한다.\n",
    "!head -20 ../users/views.py"
   ]
  },
  {
   "cell_type": "markdown",
   "metadata": {},
   "source": [
    "## 5. 로그인 이루 변경 사항 정리하기\n",
    "현재 블로그에서 상단 네비게이션 바의 경우 로그인 여부에 따라 상단 메뉴가 스위칭 되어야 한다. 이는 base.html 을 이용하는 부분이므로 해당 내용을 수정하자.\n",
    "\n",
    "**[핵심키워드]**\n",
    "```python\n",
    "{% if user.is_authenticated %}\n",
    "{% else %}\n",
    "{% endif %}\n",
    "```"
   ]
  },
  {
   "cell_type": "code",
   "execution_count": 28,
   "metadata": {},
   "outputs": [
    {
     "name": "stdout",
     "output_type": "stream",
     "text": [
      "\t\t  <button class=\"navbar-toggler\" type=\"button\" data-toggle=\"collapse\" data-target=\"#navbarToggle\" aria-controls=\"navbarToggle\" aria-expanded=\"false\" aria-label=\"Toggle navigation\">\n",
      "\t\t  <span class=\"navbar-toggler-icon\"></span>\n",
      "\t\t  </button>\n",
      "\t\t  <div class=\"collapse navbar-collapse\" id=\"navbarToggle\">\n",
      "\t\t\t<div class=\"navbar-nav mr-auto\">\n",
      "\t\t\t  <a class=\"nav-item nav-link\" href=\"{% url 'blog-home'%}\">Home</a>\n",
      "\t\t\t  <a class=\"nav-item nav-link\" href=\"{% url 'blog-about'%}\">About</a>\n",
      "\t\t\t</div>\n",
      "\t\t\t<!-- Navbar Right Side -->\n",
      "\t\t\t<div class=\"navbar-nav\">\n",
      "\t\t\t{% if user.is_authenticated %}\n",
      "\t\t\t\t<a class=\"nav-item nav-link\" href=\"{% url 'profile' %}\">Profile</a>\n",
      "\t\t\t\t<a class=\"nav-item nav-link\" href=\"{% url 'logout' %}\">Logout</a>\n",
      "\t\t\t{% else %}\n",
      "\t\t\t\t<a class=\"nav-item nav-link\" href=\"{% url 'login' %}\">Login</a>\n",
      "\t\t\t\t<a class=\"nav-item nav-link\" href=\"{% url 'register' %}\">Register</a>\n",
      "\t\t\t{% endif %}\n",
      "\t\t\t</div>\n",
      "\t\t  </div>\n",
      "\t\t</div>\n",
      "\t  </nav>\n"
     ]
    }
   ],
   "source": [
    "!sed -n '25,45p' ../blog/templates/blog/base.html"
   ]
  },
  {
   "cell_type": "code",
   "execution_count": 35,
   "metadata": {},
   "outputs": [
    {
     "name": "stdout",
     "output_type": "stream",
     "text": [
      "# Static files (CSS, JavaScript, Images)\n",
      "# https://docs.djangoproject.com/en/3.2/howto/static-files/\n",
      "\n",
      "STATIC_URL = '/static/'\n",
      "CRISPY_TEMPLATE_PACK = 'bootstrap4'\n",
      "LOGIN_REDIRECT_URL = 'blog-home'\n",
      "LOGIN_URL = 'login'\n",
      "\n",
      "# Default primary key field type\n",
      "# https://docs.djangoproject.com/en/3.2/ref/settings/#default-auto-field\n",
      "\n",
      "DEFAULT_AUTO_FIELD = 'django.db.models.BigAutoField'\n"
     ]
    }
   ],
   "source": [
    "# 로그인 후 리다이렉트 페이지 setting 정보 등록\n",
    "!sed -n '110,200p' ../config/settings.py"
   ]
  },
  {
   "cell_type": "markdown",
   "metadata": {},
   "source": [
    "## 6. 로그인이 필요한 페이지의 검증\n",
    "\n",
    "사용자 profile 화면은 로그인이 되어 있는 상태에서만 서비스 가능한 기능이다. 사용자가 잘못된 경로를 호출 하는 경우 로그인을 요구하고. 로그인 완료되는 경우 해당 페이지를 랜더링 하여주자.\n",
    "\n",
    "로그인 전용 서비스의 경우 view 에 다음과 같은 어노테이션을 붙여준다.\n",
    "```python\n",
    "@login_required\n",
    "```"
   ]
  },
  {
   "cell_type": "code",
   "execution_count": 40,
   "metadata": {},
   "outputs": [
    {
     "name": "stdout",
     "output_type": "stream",
     "text": [
      "{% extends \"blog/base.html\" %}\n",
      "{% load crispy_forms_tags %}\n",
      "{% block content %}\n",
      "    <div class=\"content-section\">\n",
      "      <div class=\"media\">\n",
      "        <img class=\"rounded-circle account-img\" src=\"{{ user.profile.image.url }}\">\n",
      "        <div class=\"media-body\">\n",
      "          <h2 class=\"account-heading\">{{ user.username }}</h2>\n",
      "          <p class=\"text-secondary\">{{ user.email }}</p>\n",
      "        </div>\n",
      "      </div>\n",
      "      <!-- FORM HERE -->\n",
      "    </div>\n",
      "{% endblock content %}\n"
     ]
    }
   ],
   "source": [
    "# profile 화면 추가\n",
    "!cat ../users/templates/users/profile.html"
   ]
  },
  {
   "cell_type": "code",
   "execution_count": 39,
   "metadata": {},
   "outputs": [
    {
     "name": "stdout",
     "output_type": "stream",
     "text": [
      "@login_required\n",
      "def profile(request):\n",
      "    return render(request, 'users/profile.html')\n"
     ]
    }
   ],
   "source": [
    "# 프로파일 화면은 로그인 전용 서비스이다!!\n",
    "!tail -3 ../users/views.py"
   ]
  },
  {
   "attachments": {
    "image.png": {
     "image/png": "[encoded data removed]"
    }
   },
   "cell_type": "markdown",
   "metadata": {},
   "source": [
    "#### 로그아웃 이후 프로파일 접근시 로그인 호출 확인\n",
    "![image.png](attachment:image.png)"
   ]
  },
  {
   "cell_type": "code",
   "execution_count": null,
   "metadata": {},
   "outputs": [],
   "source": []
  }
 ],
 "metadata": {
  "kernelspec": {
   "display_name": "Python 3",
   "language": "python",
   "name": "python3"
  },
  "language_info": {
   "codemirror_mode": {
    "name": "ipython",
    "version": 3
   },
   "file_extension": ".py",
   "mimetype": "text/x-python",
   "name": "python",
   "nbconvert_exporter": "python",
   "pygments_lexer": "ipython3",
   "version": "3.7.3"
  }
 },
 "nbformat": 4,
 "nbformat_minor": 2
}
