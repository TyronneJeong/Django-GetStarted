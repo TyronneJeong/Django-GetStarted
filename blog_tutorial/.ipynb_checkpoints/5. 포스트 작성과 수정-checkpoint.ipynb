{
 "cells": [
  {
   "cell_type": "markdown",
   "metadata": {},
   "source": [
    "# 포스트 작성과 수정"
   ]
  },
  {
   "cell_type": "markdown",
   "metadata": {},
   "source": [
    "## 1. view 에 아래 항목 추가\n",
    "\n",
    "from django.views.generic import ListView\n",
    "class PostListView(ListView):\n",
    "    model = Post"
   ]
  },
  {
   "cell_type": "markdown",
   "metadata": {},
   "source": [
    "## 2. urls 에 아래 항목 추가\n",
    "\n",
    "기존 view.home 에서 PostListView 로 변경된다.\n",
    "\n",
    "```python\n",
    "from .views import PostListView\n",
    "path('', PostListView.as_view, name='blog-home'),\n",
    "```"
   ]
  },
  {
   "cell_type": "markdown",
   "metadata": {},
   "source": [
    "## 3. 제네릭 사용시 찾아가는 템플릿 네이밍 룰이 있다\n",
    "\n",
    "제네릭은 view 간편하게 가공할 수 있는 템플릿 객체이다. URLs.py 에 연결하기만 하면 가공된 데이터를 템플릿 HTML 에 전달 가능하다. 마치 Model 과 View 를 한 객체에 구현해놓은 것 같다.\n",
    "\n",
    "\n",
    "```python\n",
    "네이밍룰 : <app>/<model>_<view_type>.html\n",
    "```\n",
    "\n",
    "blog_home 을 찾아가도록 해야 하니 강제로 template_name 을 주입한다.\n",
    "\n",
    "```python\n",
    "class PostListView(ListView):\n",
    "    model = Post\n",
    "    template_name = 'blog/home.html'\n",
    "    context_object_name = 'posts'\n",
    "    ordering = ['-date_posted']\n",
    "```"
   ]
  },
  {
   "cell_type": "code",
   "execution_count": null,
   "metadata": {},
   "outputs": [],
   "source": []
  },
  {
   "cell_type": "code",
   "execution_count": null,
   "metadata": {},
   "outputs": [],
   "source": []
  },
  {
   "cell_type": "code",
   "execution_count": null,
   "metadata": {},
   "outputs": [],
   "source": []
  }
 ],
 "metadata": {
  "kernelspec": {
   "display_name": "Python 3",
   "language": "python",
   "name": "python3"
  },
  "language_info": {
   "codemirror_mode": {
    "name": "ipython",
    "version": 3
   },
   "file_extension": ".py",
   "mimetype": "text/x-python",
   "name": "python",
   "nbconvert_exporter": "python",
   "pygments_lexer": "ipython3",
   "version": "3.7.3"
  }
 },
 "nbformat": 4,
 "nbformat_minor": 2
}
