{
 "cells": [
  {
   "cell_type": "markdown",
   "metadata": {},
   "source": [
    "# 블로그 작업의 개요\n",
    "C/R/U/D 가 가능한 블로그 개설을 통해 주요 기능들을 학습한다.\n"
   ]
  },
  {
   "cell_type": "markdown",
   "metadata": {},
   "source": [
    "## 1. App 생성\n",
    "아래 명령어를 통해 신규 APP 폴더를 생성한다.\n",
    "```python\n",
    "!python manage.py appstart blog\n",
    "```"
   ]
  },
  {
   "cell_type": "code",
   "execution_count": 1,
   "metadata": {},
   "outputs": [
    {
     "name": "stdout",
     "output_type": "stream",
     "text": [
      "__init__.py\n",
      "__pycache__\n",
      "admin.py\n",
      "apps.py\n",
      "migrations\n",
      "models.py\n",
      "static\n",
      "templates\n",
      "tests.py\n",
      "urls.py\n",
      "views.py\n"
     ]
    }
   ],
   "source": [
    "# 생성된 디렉토리 확인\n",
    "!ls ../blog/"
   ]
  },
  {
   "cell_type": "markdown",
   "metadata": {},
   "source": [
    "## 2. Settings 등록\n",
    "생성된 APP 을 프로젝트 settings 파일에 등록  \n",
    "- [프로젝트]/settings.py  \n",
    "\n",
    "의 INSTALL_APPS 내역에 신규 생성된 APP 을 등록 한다.\n"
   ]
  },
  {
   "cell_type": "code",
   "execution_count": 7,
   "metadata": {},
   "outputs": [
    {
     "name": "stdout",
     "output_type": "stream",
     "text": [
      "from pathlib import Path\n",
      "\n",
      "# Build paths inside the project like this: BASE_DIR / 'subdir'.\n",
      "BASE_DIR = Path(__file__).resolve().parent.parent\n",
      "\n",
      "\n",
      "# Quick-start development settings - unsuitable for production\n",
      "# See https://docs.djangoproject.com/en/3.2/howto/deployment/checklist/\n",
      "\n",
      "# SECURITY WARNING: keep the secret key used in production secret!\n",
      "SECRET_KEY = 'django-insecure-^-o$e^lif^tcq08r2&ubj20j91!j77o-)j6!nfrl+l5w8vd=l^'\n",
      "\n",
      "# SECURITY WARNING: don't run with debug turned on in production!\n",
      "DEBUG = True\n",
      "\n",
      "ALLOWED_HOSTS = []\n",
      "\n",
      "\n",
      "# Application definition\n",
      "\n",
      "INSTALLED_APPS = [\n",
      "    'django.contrib.admin',\n",
      "    'django.contrib.auth',\n",
      "    'django.contrib.contenttypes',\n",
      "    'django.contrib.sessions',\n",
      "    'django.contrib.messages',\n",
      "    'django.contrib.staticfiles',\n",
      "    'polls.apps.PollsConfig', # added new apps config class\n",
      "    'blog.apps.BlogConfig', # added new apps config class\n",
      "    'users.apps.UsersConfig', # added new users config class\n"
     ]
    }
   ],
   "source": [
    "# blog.apps.BlogConfig 정보를 settings.py 에 등록\n",
    "!head -30 ../config/settings.py"
   ]
  },
  {
   "cell_type": "markdown",
   "metadata": {},
   "source": [
    "## 3. URL 연결 \n",
    "\n",
    "### 3.1 [APP]/urls.py 작성\n",
    "신규 생성 APP 의 서브도메인 주소를 연결한다.  \n",
    "호출 가능한 주소 정보를 등록 하여 작업물을 확인 할 수 있도록 한다.\n",
    "\n",
    "- home : 블로그의 메인 페이지\n",
    "- about : 블로그 주인에 관한 정보 페이지"
   ]
  },
  {
   "cell_type": "code",
   "execution_count": 8,
   "metadata": {},
   "outputs": [
    {
     "name": "stdout",
     "output_type": "stream",
     "text": [
      "from django.urls import path\n",
      "from . import views\n",
      "\n",
      "urlpatterns = [\n",
      "    # /blog/home\n",
      "    path('', views.home, name='blog-home'),\n",
      "    \n",
      "    # /blog/about\n",
      "    path('about/', views.about, name='blog-about'),\n",
      "]\n"
     ]
    }
   ],
   "source": [
    "# [APP] urls.py 확인\n",
    "!cat ../blog/urls.py"
   ]
  },
  {
   "cell_type": "markdown",
   "metadata": {},
   "source": [
    "### 3.2 [프로젝트]/urls.py 와 연결\n",
    "urls 연결은 view 페이지와 직접 연결 또는 urls include 모두 가능 하다.  \n",
    "아래는 최초 블로그 홈과 회원 등록 두가지 페이지를 각 다른 방식으로 연결 한 모습이다.\n",
    "```python\n",
    "path('', include('blog.urls')), # include urls.py file in blog\n",
    "path('register/', user_views.register, name=\"register\"), # include urls.py file in apps\n",
    "```"
   ]
  },
  {
   "cell_type": "code",
   "execution_count": 9,
   "metadata": {},
   "outputs": [
    {
     "name": "stdout",
     "output_type": "stream",
     "text": [
      "from django.contrib import admin\n",
      "from django.urls import include, path\n",
      "from users import views as user_views\n",
      "\n",
      "urlpatterns = [\n",
      "    path('', include('blog.urls')), # include urls.py file in blog\n",
      "    path('register/', user_views.register, name=\"register\"), # include urls.py file in apps\n",
      "    path('polls/', include('polls.urls')), # include urls.py file in apps\n",
      "    path('admin/', admin.site.urls),\n",
      "    \n",
      "]\n"
     ]
    }
   ],
   "source": [
    "# 프로젝트 urls 파일 확인\n",
    "!cat ../config/urls.py"
   ]
  },
  {
   "cell_type": "markdown",
   "metadata": {},
   "source": [
    "## 4. View 생성\n",
    "\n",
    "연결된 URL 정보가 접근 하기 위한 View 페이지 작업을 추가한다."
   ]
  },
  {
   "cell_type": "code",
   "execution_count": 10,
   "metadata": {},
   "outputs": [
    {
     "name": "stdout",
     "output_type": "stream",
     "text": [
      "from django.shortcuts import render\n",
      "from django.http import HttpResponse\n",
      "from .models import Post\n",
      "\n",
      "posts = [\n",
      "    {\n",
      "        'author' : 'baekgooni',\n",
      "        'title': 'Blog Post 1',\n",
      "        'content' : 'First Post Content',\n",
      "        'date_posted' : 'Feburary 6, 2021'\n",
      "    },\n",
      "    {\n",
      "        'author' : 'baekgooni',\n",
      "        'title': 'Blog Post 2',\n",
      "        'content' : 'Second Post Content',\n",
      "        'date_posted' : 'Feburary 6, 2021'\n",
      "    },\n",
      "]\n",
      "\n",
      "def home(request):\n",
      "    context = {\n",
      "        # 'posts':posts\n",
      "        'posts':Post.objects.all()\n",
      "    }\n",
      "    return render(request, 'blog/home.html', context)\n",
      "\n",
      "def about(request):\n",
      "    return render(request, 'blog/about.html', {'title':'Fisrt Move'})\n"
     ]
    }
   ],
   "source": [
    "# 앞서 urls.py 에 선언된 view 파일내 함수를 정의한다.\n",
    "!cat ../blog/views.py"
   ]
  },
  {
   "cell_type": "markdown",
   "metadata": {},
   "source": [
    "## 5. Template 작성\n",
    "view 파일에 정의된 render 메소드에 따라. template 파일들이 준비되어 있어야 한다. \n",
    "\n",
    "- [APP]/templates/[APP]/\n",
    "\n",
    "경로를 따라 상기 선언된 파일들을 생성 하자."
   ]
  },
  {
   "cell_type": "code",
   "execution_count": 11,
   "metadata": {},
   "outputs": [
    {
     "name": "stdout",
     "output_type": "stream",
     "text": [
      "about.html\n",
      "base.html\n",
      "home.html\n",
      "sample.html\n"
     ]
    }
   ],
   "source": [
    "# 작성된 template 파일 목록\n",
    "!ls ../blog/templates/blog/"
   ]
  },
  {
   "attachments": {
    "image.png": {
     "image/png": "[encoded data removed]"
    }
   },
   "cell_type": "markdown",
   "metadata": {},
   "source": [
    "## 6. 서버 접속으로 정상적인 페이지 접근 확인\n",
    "http://127.0.0.1:8000/\n",
    "![image.png](attachment:image.png)"
   ]
  },
  {
   "cell_type": "code",
   "execution_count": null,
   "metadata": {},
   "outputs": [],
   "source": []
  }
 ],
 "metadata": {
  "kernelspec": {
   "display_name": "Python 3",
   "language": "python",
   "name": "python3"
  },
  "language_info": {
   "codemirror_mode": {
    "name": "ipython",
    "version": 3
   },
   "file_extension": ".py",
   "mimetype": "text/x-python",
   "name": "python",
   "nbconvert_exporter": "python",
   "pygments_lexer": "ipython3",
   "version": "3.7.3"
  }
 },
 "nbformat": 4,
 "nbformat_minor": 2
}
