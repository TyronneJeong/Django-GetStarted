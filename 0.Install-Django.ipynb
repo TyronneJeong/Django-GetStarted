{
 "cells": [
  {
   "cell_type": "markdown",
   "metadata": {},
   "source": [
    "## 파이썬 버전확인"
   ]
  },
  {
   "cell_type": "code",
   "execution_count": 2,
   "metadata": {},
   "outputs": [
    {
     "name": "stdout",
     "output_type": "stream",
     "text": [
      "Python 3.7.3\n"
     ]
    }
   ],
   "source": [
    "# 파이썬 버전 확인\n",
    "!python --version"
   ]
  },
  {
   "cell_type": "markdown",
   "metadata": {},
   "source": [
    "## 장고 설치 및 구동"
   ]
  },
  {
   "cell_type": "code",
   "execution_count": 3,
   "metadata": {},
   "outputs": [
    {
     "name": "stdout",
     "output_type": "stream",
     "text": [
      "Collecting Django\n",
      "  Downloading https://files.pythonhosted.org/packages/9c/0e/02b7eff8fac2c25ede489933d4e899f6e6f283ae8eaf5189431057c8d406/Django-3.2.12-py3-none-any.whl (7.9MB)\n",
      "Collecting asgiref<4,>=3.3.2 (from Django)\n",
      "  Downloading https://files.pythonhosted.org/packages/0b/9f/5f3b91391578312827561b669a0397d58535b4e82966c8f1667525c7d563/asgiref-3.5.0-py3-none-any.whl\n",
      "Collecting sqlparse>=0.2.2 (from Django)\n",
      "  Downloading https://files.pythonhosted.org/packages/05/40/d836d55fb3f467243ee839ab7b814822fda522cd395fa41e282684e71ee5/sqlparse-0.4.2-py3-none-any.whl (42kB)\n",
      "Requirement already satisfied: pytz in c:\\users\\mauro\\anaconda3\\lib\\site-packages (from Django) (2018.9)\n",
      "Requirement already satisfied: typing-extensions; python_version < \"3.8\" in c:\\users\\mauro\\anaconda3\\lib\\site-packages (from asgiref<4,>=3.3.2->Django) (3.10.0.0)\n",
      "Installing collected packages: asgiref, sqlparse, Django\n",
      "Successfully installed Django-3.2.12 asgiref-3.5.0 sqlparse-0.4.2\n"
     ]
    }
   ],
   "source": [
    "# 쟝고 설치\n",
    "!python -m pip install Django"
   ]
  },
  {
   "cell_type": "code",
   "execution_count": 5,
   "metadata": {},
   "outputs": [],
   "source": [
    "# 현재 위치한 폴더를 프로젝트 폴더로 구성 -> manage.py 파일이 생성됨\n",
    "!django-admin startproject config .\n",
    "\n",
    "# sample 이라는 폴더 생성후 이를 프로젝트 폴더로 지정\n",
    "# !django-admin startproject sample\n",
    "\n",
    "# 프로젝트 기본 패키지 파일\n",
    "# __init__.py\n",
    "# asgi.py\n",
    "# settins.py\n",
    "# urls.py\n",
    "# wsgi.py"
   ]
  },
  {
   "cell_type": "code",
   "execution_count": null,
   "metadata": {},
   "outputs": [],
   "source": [
    "# 쟝고는 별도의 http 서버를 구성하지 않아도 간단한 어플리케이션을 실행 할 수 있는 서버를 제공한다.\n",
    "!python manage.py runserver\n",
    "\n",
    "# http://127.0.0.1:8000/ 로 접속 가능"
   ]
  }
 ],
 "metadata": {
  "kernelspec": {
   "display_name": "Python 3",
   "language": "python",
   "name": "python3"
  },
  "language_info": {
   "codemirror_mode": {
    "name": "ipython",
    "version": 3
   },
   "file_extension": ".py",
   "mimetype": "text/x-python",
   "name": "python",
   "nbconvert_exporter": "python",
   "pygments_lexer": "ipython3",
   "version": "3.7.3"
  }
 },
 "nbformat": 4,
 "nbformat_minor": 2
}
