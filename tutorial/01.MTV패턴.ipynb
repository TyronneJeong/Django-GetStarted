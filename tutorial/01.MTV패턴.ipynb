{
 "cells": [
  {
   "cell_type": "markdown",
   "metadata": {},
   "source": [
    "## MTV (Model Template View) Pattern\n",
    "\n",
    "정통적인 MVC 패턴과 동일하나 명칭이 다르다.\n",
    "\n",
    "<pre>\n",
    "Model   -> Model    (DB)\n",
    "Control -> View     (로직)\n",
    "View    -> Template (화면)\n",
    "</pre>"
   ]
  },
  {
   "cell_type": "markdown",
   "metadata": {},
   "source": [
    "## 투표 어플리케이션 만들기"
   ]
  },
  {
   "cell_type": "code",
   "execution_count": null,
   "metadata": {},
   "outputs": [],
   "source": [
    "# 투표 어플리케이션을 생성\n",
    "!python manage.py startapp polls\n",
    "\n",
    "# 프로젝트 패키지가 구성된다.\n",
    "# __init__.py\n",
    "# admin.py\n",
    "# apps.py\n",
    "# models.py\n",
    "# test.py\n",
    "# views.py"
   ]
  },
  {
   "cell_type": "code",
   "execution_count": 3,
   "metadata": {},
   "outputs": [
    {
     "name": "stdout",
     "output_type": "stream",
     "text": [
      "__init__.py\n",
      "admin.py\n",
      "apps.py\n",
      "migrations\n",
      "models.py\n",
      "tests.py\n",
      "views.py\n"
     ]
    }
   ],
   "source": [
    "!ls ./polls"
   ]
  },
  {
   "cell_type": "markdown",
   "metadata": {},
   "source": [
    "# view (로직을 작성 한다.)\n",
    "\n",
    "./polls/views.py 파일에 아래와 같이 작성 한다.\n",
    "\n",
    "```python\n",
    "from django.shortcuts import render\n",
    "from django.http import HttpResponse\n",
    "\n",
    "def index(request):\n",
    "    return HttpResponse(\"Hello, World. You are at the polls index.\")\n",
    "```\n"
   ]
  },
  {
   "cell_type": "code",
   "execution_count": 9,
   "metadata": {},
   "outputs": [
    {
     "name": "stdout",
     "output_type": "stream",
     "text": [
      "from django.shortcuts import render\n",
      "from django.http import HttpResponse\n",
      "\n",
      "def index(request):\n",
      "    return HttpResponse(\"Hello, World. You are at the polls index.\")\n"
     ]
    }
   ],
   "source": [
    "# view 로직 작성\n",
    "!cat ./polls/views.py"
   ]
  },
  {
   "cell_type": "markdown",
   "metadata": {},
   "source": [
    "## urls 연결\n",
    "\n",
    "- 도메인주소/서브도메인 형식으로 접근할 시 보여지는 페이지를 연결 한다.\n",
    "- 도메인 연결 작업을 위해서는 urls.py 파일을 직접 생성해준다."
   ]
  },
  {
   "cell_type": "code",
   "execution_count": 12,
   "metadata": {},
   "outputs": [
    {
     "name": "stdout",
     "output_type": "stream",
     "text": [
      "from django.urls import path\n",
      "from . import views\n",
      "\n",
      "urlpatterns = [\n",
      "    path('', views.index, name='index'),\n",
      "]\n"
     ]
    }
   ],
   "source": [
    "# polls 어플리케이션 패키지에 urls.py 에는 index 정보만 등록한다.\n",
    "!cat ./polls/urls.py"
   ]
  },
  {
   "cell_type": "code",
   "execution_count": 14,
   "metadata": {},
   "outputs": [
    {
     "name": "stdout",
     "output_type": "stream",
     "text": [
      "from django.contrib import admin\n",
      "from django.urls import include, path\n",
      "\n",
      "urlpatterns = [\n",
      "    path('polls/', include('polls.urls')), # urls �뙆�씪�쓣 include �떆�궓�떎.\n",
      "    path('admin/', admin.site.urls),\n",
      "]\n"
     ]
    }
   ],
   "source": [
    "# 프로젝트 패키지 config 에 urls.py 에서는 서브도메인 연결 정보를 등록한다.\n",
    "!cat ./config/urls.py"
   ]
  },
  {
   "cell_type": "code",
   "execution_count": null,
   "metadata": {},
   "outputs": [],
   "source": [
    "# 하기 URLS 로 접속히 미리 정의해둔 polls 앱의 index 페이지가 호출 된다.\n",
    "http://127.0.0.1:8000/polls/"
   ]
  }
 ],
 "metadata": {
  "kernelspec": {
   "display_name": "Python 3",
   "language": "python",
   "name": "python3"
  },
  "language_info": {
   "codemirror_mode": {
    "name": "ipython",
    "version": 3
   },
   "file_extension": ".py",
   "mimetype": "text/x-python",
   "name": "python",
   "nbconvert_exporter": "python",
   "pygments_lexer": "ipython3",
   "version": "3.7.3"
  }
 },
 "nbformat": 4,
 "nbformat_minor": 2
}
