{
 "cells": [
  {
   "cell_type": "markdown",
   "metadata": {},
   "source": [
    "# Django 설치\n",
    "python 프레임워크 Django 의 경우 pip install 을 통하여 간편하게 설치 할 수 있다."
   ]
  },
  {
   "cell_type": "markdown",
   "metadata": {},
   "source": [
    "## 1. 파이썬 버전 및 설치 유무 확인"
   ]
  },
  {
   "cell_type": "code",
   "execution_count": 2,
   "metadata": {},
   "outputs": [
    {
     "name": "stdout",
     "output_type": "stream",
     "text": [
      "Python 3.7.3\n"
     ]
    }
   ],
   "source": [
    "# 설치전 파이썬 설치 유무와 버전을 확인한다.\n",
    "!python --version"
   ]
  },
  {
   "cell_type": "markdown",
   "metadata": {},
   "source": [
    "## 2. Django 설치"
   ]
  },
  {
   "cell_type": "code",
   "execution_count": 3,
   "metadata": {},
   "outputs": [
    {
     "name": "stdout",
     "output_type": "stream",
     "text": [
      "Collecting Django\n",
      "  Downloading https://files.pythonhosted.org/packages/9c/0e/02b7eff8fac2c25ede489933d4e899f6e6f283ae8eaf5189431057c8d406/Django-3.2.12-py3-none-any.whl (7.9MB)\n",
      "Collecting asgiref<4,>=3.3.2 (from Django)\n",
      "  Downloading https://files.pythonhosted.org/packages/0b/9f/5f3b91391578312827561b669a0397d58535b4e82966c8f1667525c7d563/asgiref-3.5.0-py3-none-any.whl\n",
      "Collecting sqlparse>=0.2.2 (from Django)\n",
      "  Downloading https://files.pythonhosted.org/packages/05/40/d836d55fb3f467243ee839ab7b814822fda522cd395fa41e282684e71ee5/sqlparse-0.4.2-py3-none-any.whl (42kB)\n",
      "Requirement already satisfied: pytz in c:\\users\\mauro\\anaconda3\\lib\\site-packages (from Django) (2018.9)\n",
      "Requirement already satisfied: typing-extensions; python_version < \"3.8\" in c:\\users\\mauro\\anaconda3\\lib\\site-packages (from asgiref<4,>=3.3.2->Django) (3.10.0.0)\n",
      "Installing collected packages: asgiref, sqlparse, Django\n",
      "Successfully installed Django-3.2.12 asgiref-3.5.0 sqlparse-0.4.2\n"
     ]
    }
   ],
   "source": [
    "# pip install 을 통해 Django 설치\n",
    "!python -m pip install Django"
   ]
  },
  {
   "cell_type": "markdown",
   "metadata": {},
   "source": [
    "## 3. 신규 프로젝트(작업폴더) 생성\n",
    "\n",
    "Django 는 프로젝트 내 생성된 App 을 호출하는 방식으로 최초 프로젝트 생성이 선행 되어야 한다.\n",
    "\n",
    "프로젝트 생성방법\n",
    "- 1. 신규 폴더 생성 후 프로젝트 루트로 지정\n",
    "- 2. 현재 폴더를 프로젝트 루트로 지정"
   ]
  },
  {
   "cell_type": "code",
   "execution_count": 5,
   "metadata": {},
   "outputs": [],
   "source": [
    "# 현재 폴더에 config 라는 이름의 프로젝트 관리 폴더를 생성\n",
    "!django-admin startproject config .\n",
    "\n",
    "# sample 이라는 폴더를 생성하고 그 속에 sample 이라는 이름의 프로젝트 관리 폴더를 생성\n",
    "# !django-admin startproject sample"
   ]
  },
  {
   "cell_type": "markdown",
   "metadata": {},
   "source": [
    "## 4. 서버 기동\n",
    "Django 는 별도의 설정 없이 간편한 컨테이너 기동 및 샘플 페이지 확인이 가능하다.\n",
    "\n",
    "접속 URL : http://127.0.0.1:8000/"
   ]
  },
  {
   "cell_type": "code",
   "execution_count": null,
   "metadata": {},
   "outputs": [],
   "source": [
    "# 쟝고는 별도의 http 서버를 구성하지 않아도 간단한 어플리케이션을 실행 할 수 있는 서버를 제공한다.\n",
    "!python manage.py runserver"
   ]
  }
 ],
 "metadata": {
  "kernelspec": {
   "display_name": "Python 3",
   "language": "python",
   "name": "python3"
  },
  "language_info": {
   "codemirror_mode": {
    "name": "ipython",
    "version": 3
   },
   "file_extension": ".py",
   "mimetype": "text/x-python",
   "name": "python",
   "nbconvert_exporter": "python",
   "pygments_lexer": "ipython3",
   "version": "3.7.3"
  }
 },
 "nbformat": 4,
 "nbformat_minor": 2
}
