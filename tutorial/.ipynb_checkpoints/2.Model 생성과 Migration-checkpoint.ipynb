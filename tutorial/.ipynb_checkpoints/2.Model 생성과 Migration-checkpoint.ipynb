{
 "cells": [
  {
   "cell_type": "markdown",
   "metadata": {},
   "source": [
    "# Model 생성과 Migration\n",
    "\n",
    "DB 에 해당 하는 Model 의 생성 방법과 이를 어플리케이션에서 임포트 하여 사용하기 위한 준비과정을 살펴 본다.\n",
    "\n",
    "[APP 폴더구조]\n",
    "- admin.py      - 관리자 페이지 생성시 관리 대상을 설정 할 수 있는 파일\n",
    "- apps.py       - 어플리케이션의 이름과 같은 기본정인 정보를 관리하는 파일\n",
    "- migrations \n",
    "- models.py     - ORM 형식의 DB 관리정보를 관리하는 파일\n",
    "- tests.py\n",
    "- urls.py       - 접속 가능한 서브도메인과 페이지 정보를 관리하는 파일\n",
    "- views.py"
   ]
  },
  {
   "cell_type": "code",
   "execution_count": 30,
   "metadata": {},
   "outputs": [
    {
     "name": "stdout",
     "output_type": "stream",
     "text": [
      "__init__.py\n",
      "__pycache__\n",
      "admin.py\n",
      "apps.py\n",
      "migrations\n",
      "models.py\n",
      "tests.py\n",
      "urls.py\n",
      "views.py\n"
     ]
    }
   ],
   "source": [
    "# polls 앱내 파일 확인\n",
    "!ls ../polls/"
   ]
  },
  {
   "cell_type": "markdown",
   "metadata": {},
   "source": [
    "## 1. Model 생성\n",
    "APP내 models.py 파일을 통해 해당 앱에서 사용하고자 하는 모델 속성정보와 CASCADE 연결 정보 등을 정의 할 수 있다."
   ]
  },
  {
   "cell_type": "code",
   "execution_count": 31,
   "metadata": {},
   "outputs": [
    {
     "name": "stdout",
     "output_type": "stream",
     "text": [
      "from django.db import models\n",
      "\n",
      "# decalred ORM Information (Object Relation Mapping)\n",
      "class Question(models.Model):\n",
      "    question_test = models.CharField(max_length=200)\n",
      "    pub_data = models.DateTimeField('date published')\n",
      "    \n",
      "class Choice(models.Model):\n",
      "    question = models.ForeignKey(Question, on_delete=models.CASCADE) # FK �뿰寃�\n",
      "    \n",
      "    choice_text = models.CharField(max_length=200)\n",
      "    vote = models.IntegerField(default=0)    \n"
     ]
    }
   ],
   "source": [
    "## model 파일을 수정 하여 ORM 정보를 등록한다.\n",
    "!cat ../polls/models.py"
   ]
  },
  {
   "cell_type": "markdown",
   "metadata": {},
   "source": [
    "## 2. App 을 프로젝트에 연결하기\n",
    "\n",
    "APP 내 정의한 Model 정보를 인식시키려면 프로젝트 단위의 Migrate 과정이 필요한데, 이를 위해서는 APP 를 프로젝트와 연결하는 작업이 선행 되어야 한다."
   ]
  },
  {
   "cell_type": "code",
   "execution_count": 10,
   "metadata": {},
   "outputs": [
    {
     "name": "stdout",
     "output_type": "stream",
     "text": [
      "from django.apps import AppConfig\n",
      "\n",
      "\n",
      "class PollsConfig(AppConfig):\n",
      "    default_auto_field = 'django.db.models.BigAutoField'\n",
      "    name = 'polls'\n"
     ]
    }
   ],
   "source": [
    "# 프로젝트에 App 을 연결 하기 위해 우선 App 의 이름을 확인한다.\n",
    "!cat ../polls/apps.py"
   ]
  },
  {
   "cell_type": "code",
   "execution_count": 41,
   "metadata": {
    "scrolled": false
   },
   "outputs": [
    {
     "name": "stdout",
     "output_type": "stream",
     "text": [
      "from pathlib import Path\n",
      "\n",
      "# Build paths inside the project like this: BASE_DIR / 'subdir'.\n",
      "BASE_DIR = Path(__file__).resolve().parent.parent\n",
      "\n",
      "\n",
      "# Quick-start development settings - unsuitable for production\n",
      "# See https://docs.djangoproject.com/en/3.2/howto/deployment/checklist/\n",
      "\n",
      "# SECURITY WARNING: keep the secret key used in production secret!\n",
      "SECRET_KEY = 'django-insecure-^-o$e^lif^tcq08r2&ubj20j91!j77o-)j6!nfrl+l5w8vd=l^'\n",
      "\n",
      "# SECURITY WARNING: don't run with debug turned on in production!\n",
      "DEBUG = True\n",
      "\n",
      "ALLOWED_HOSTS = []\n",
      "\n",
      "\n",
      "# Application definition\n",
      "\n",
      "INSTALLED_APPS = [\n",
      "    'django.contrib.admin',\n",
      "    'django.contrib.auth',\n",
      "    'django.contrib.contenttypes',\n",
      "    'django.contrib.sessions',\n",
      "    'django.contrib.messages',\n",
      "    'django.contrib.staticfiles',\n",
      "    'polls.apps.PollsConfig', # adding my apps\n",
      "]\n",
      "\n"
     ]
    }
   ],
   "source": [
    "# App 이름을 /프로젝트/settins.py 에 등록한다.\n",
    "!head -30 ../config/settings.py\n",
    "\n",
    "# INSTALLED_APPS 내에 polls 를 추가\n",
    "# 'polls.apps.PollsConfig', # adding my apps"
   ]
  },
  {
   "cell_type": "markdown",
   "metadata": {},
   "source": [
    "## 3. App 에 존재하는 Models 정보를 Migrations 시키기\n",
    "App 내 Model 정보를 읽어 Migrations 파일을 생성하도록 지시한다."
   ]
  },
  {
   "cell_type": "code",
   "execution_count": 32,
   "metadata": {},
   "outputs": [
    {
     "name": "stdout",
     "output_type": "stream",
     "text": [
      "No changes detected in app 'polls'\n"
     ]
    }
   ],
   "source": [
    "# makemigrations 명령어를 통하여 polls 앱의 models 정보를 migration 시킨다.\n",
    "!cd.. & python manage.py makemigrations polls"
   ]
  },
  {
   "cell_type": "code",
   "execution_count": 35,
   "metadata": {},
   "outputs": [
    {
     "name": "stdout",
     "output_type": "stream",
     "text": [
      "0001_initial.py\n",
      "__init__.py\n",
      "__pycache__\n"
     ]
    }
   ],
   "source": [
    "# 마이그레이션은 models 정보가 변경될 때 마다 추가적으로 생성 가능하다.\n",
    "!ls ../polls/migrations/\n",
    "\n",
    "# 0001_initial.py 은 히스토리 버전으로 추가 변경 사항이 발생 할 때 마다 일련번호가 증가된 파일이 생성된다."
   ]
  },
  {
   "cell_type": "code",
   "execution_count": 39,
   "metadata": {},
   "outputs": [
    {
     "name": "stdout",
     "output_type": "stream",
     "text": [
      "# Generated by Django 3.2.12 on 2022-02-05 12:10\n",
      "\n",
      "from django.db import migrations, models\n",
      "import django.db.models.deletion\n",
      "\n",
      "\n",
      "class Migration(migrations.Migration):\n",
      "\n",
      "    initial = True\n",
      "\n",
      "    dependencies = [\n",
      "    ]\n",
      "\n",
      "    operations = [\n",
      "        migrations.CreateModel(\n",
      "            name='Question',\n",
      "            fields=[\n",
      "                ('id', models.BigAutoField(auto_created=True, primary_key=True, serialize=False, verbose_name='ID')),\n",
      "                ('question_test', models.CharField(max_length=200)),\n",
      "                ('pub_data', models.DateTimeField(verbose_name='date published')),\n",
      "            ],\n",
      "        ),\n",
      "        migrations.CreateModel(\n",
      "            name='Choice',\n",
      "            fields=[\n",
      "                ('id', models.BigAutoField(auto_created=True, primary_key=True, serialize=False, verbose_name='ID')),\n",
      "                ('choice_text', models.CharField(max_length=200)),\n",
      "                ('vote', models.IntegerField(default=0)),\n",
      "                ('question', models.ForeignKey(on_delete=django.db.models.deletion.CASCADE, to='polls.question')),\n",
      "            ],\n"
     ]
    }
   ],
   "source": [
    "# /polls.migrations/ 폴더에 존재하는 initial.py 내용을 확인\n",
    "!head -30 ../polls/migrations/0001_initial.py\n",
    "\n",
    "\n",
    "# [ID | QUESTION | DATA]\n",
    "# 로 구성된 Question 테이블\n",
    "\n",
    "# [ID | CHOICE_TEXT | VOTE | QUESTION(FK)]\n",
    "# 로 구성된 CHoice 테이블\n",
    "\n",
    "# 의 모델 정보가 각 생성되어져 있다."
   ]
  },
  {
   "cell_type": "markdown",
   "metadata": {},
   "source": [
    "## 4. 프로젝트 마이그레이트 시키기\n",
    "앞서 진행한 Migrations 작업은 Model 의 테이블 정보의 변경이나 생성정보를 관리하는 파일생성이 주 목적이다.  \n",
    "Migrate 작업을 통해 실제 DB에 변경내용을 적용시키는 단계라 보면 쉽다."
   ]
  },
  {
   "cell_type": "code",
   "execution_count": 28,
   "metadata": {},
   "outputs": [
    {
     "name": "stdout",
     "output_type": "stream",
     "text": [
      "Operations to perform:\n",
      "  Apply all migrations: admin, auth, contenttypes, polls, sessions\n",
      "Running migrations:\n",
      "  Applying contenttypes.0001_initial... OK\n",
      "  Applying auth.0001_initial... OK\n",
      "  Applying admin.0001_initial... OK\n",
      "  Applying admin.0002_logentry_remove_auto_add... OK\n",
      "  Applying admin.0003_logentry_add_action_flag_choices... OK\n",
      "  Applying contenttypes.0002_remove_content_type_name... OK\n",
      "  Applying auth.0002_alter_permission_name_max_length... OK\n",
      "  Applying auth.0003_alter_user_email_max_length... OK\n",
      "  Applying auth.0004_alter_user_username_opts... OK\n",
      "  Applying auth.0005_alter_user_last_login_null... OK\n",
      "  Applying auth.0006_require_contenttypes_0002... OK\n",
      "  Applying auth.0007_alter_validators_add_error_messages... OK\n",
      "  Applying auth.0008_alter_user_username_max_length... OK\n",
      "  Applying auth.0009_alter_user_last_name_max_length... OK\n",
      "  Applying auth.0010_alter_group_name_max_length... OK\n",
      "  Applying auth.0011_update_proxy_permissions... OK\n",
      "  Applying auth.0012_alter_user_first_name_max_length... OK\n",
      "  Applying polls.0001_initial... OK\n",
      "  Applying sessions.0001_initial... OK\n"
     ]
    }
   ],
   "source": [
    "# 프로젝트를 기준으로 migrate 작업을 실행한다.\n",
    "!cd.. && python manage.py migrate"
   ]
  },
  {
   "cell_type": "markdown",
   "metadata": {},
   "source": [
    "## 5. Makemigrations 와 Migrate 의 차이\n",
    "\n",
    "- makemigration : 모델의 변경 사항을 파일 형태로 생성.\n",
    "- migrate : 생성된 Migrations 파일을 근거로 DB 모델을 변경 처리."
   ]
  },
  {
   "cell_type": "code",
   "execution_count": 29,
   "metadata": {},
   "outputs": [
    {
     "name": "stdout",
     "output_type": "stream",
     "text": [
      "BEGIN;\n",
      "--\n",
      "-- Create model Question\n",
      "--\n",
      "CREATE TABLE \"polls_question\" (\"id\" integer NOT NULL PRIMARY KEY AUTOINCREMENT, \"question_test\" varchar(200) NOT NULL, \"pub_data\" datetime NOT NULL);\n",
      "--\n",
      "-- Create model Choice\n",
      "--\n",
      "CREATE TABLE \"polls_choice\" (\"id\" integer NOT NULL PRIMARY KEY AUTOINCREMENT, \"choice_text\" varchar(200) NOT NULL, \"vote\" integer NOT NULL, \"question_id\" bigint NOT NULL REFERENCES \"polls_question\" (\"id\") DEFERRABLE INITIALLY DEFERRED);\n",
      "CREATE INDEX \"polls_choice_question_id_c5b4b260\" ON \"polls_choice\" (\"question_id\");\n",
      "COMMIT;\n"
     ]
    }
   ],
   "source": [
    "# Migrate 가 진행되는 SQL 작업을 아래의 명령어로 확인 할 수 있다.\n",
    "!cd.. && python manage.py sqlmigrate polls 0001"
   ]
  },
  {
   "cell_type": "code",
   "execution_count": null,
   "metadata": {},
   "outputs": [],
   "source": []
  }
 ],
 "metadata": {
  "kernelspec": {
   "display_name": "Python 3",
   "language": "python",
   "name": "python3"
  },
  "language_info": {
   "codemirror_mode": {
    "name": "ipython",
    "version": 3
   },
   "file_extension": ".py",
   "mimetype": "text/x-python",
   "name": "python",
   "nbconvert_exporter": "python",
   "pygments_lexer": "ipython3",
   "version": "3.7.3"
  }
 },
 "nbformat": 4,
 "nbformat_minor": 2
}
