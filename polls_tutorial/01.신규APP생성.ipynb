{
 "cells": [
  {
   "cell_type": "markdown",
   "metadata": {},
   "source": [
    "# 신규 APP 생성\n",
    "\n",
    "새롭게 생성된 프로젝트에는 APP 형식의 서브 유닛을 생성하여 MTV패턴의 작업결과물을 생성할 수 있다.\n",
    "\n",
    "#### MTV (Model Template View) Pattern\n",
    "Django 에서 정의된 컴포넌트 기능별 분류 명칭이며 정통적인 MVC 패턴과 유사하다.\n",
    "\n",
    "|MVC|-|MTV| Decribtions |\n",
    "|:--|:--|:--|:--|\n",
    "|Model|-|Model| DataBase |\n",
    "|Contorl|-|VIew| 비즈니스로직 |\n",
    "|View|-|Template| 화면 |"
   ]
  },
  {
   "cell_type": "markdown",
   "metadata": {},
   "source": [
    "## 1. 신규 어플리케이션 만들기\n",
    "새롭게 구성한 프로젝트내에 App 을 생성하여 본다."
   ]
  },
  {
   "cell_type": "code",
   "execution_count": 1,
   "metadata": {},
   "outputs": [],
   "source": [
    "# startapp 명령을 통해 신규 App 생성\n",
    "!python manage.py startapp polls"
   ]
  },
  {
   "cell_type": "code",
   "execution_count": 3,
   "metadata": {},
   "outputs": [
    {
     "name": "stdout",
     "output_type": "stream",
     "text": [
      "__init__.py\n",
      "admin.py\n",
      "apps.py\n",
      "migrations\n",
      "models.py\n",
      "tests.py\n",
      "views.py\n"
     ]
    }
   ],
   "source": [
    "# App 패키지 정보 확인\n",
    "!ls ./polls\n",
    "\n",
    "# 프로젝트 패키지가 구성된다.\n",
    "# __init__.py\n",
    "# admin.py\n",
    "# apps.py\n",
    "# migrations -> Migrations 작업 이후 파일로 변환된다.\n",
    "# models.py\n",
    "# tests.py\n",
    "# views.py"
   ]
  },
  {
   "cell_type": "markdown",
   "metadata": {},
   "source": [
    "## 2. 화면 작성 (View 작성)\n",
    "\n",
    "App 내 파일 중 [./polls/views.py] 파일에 아래와 같이 작성 한다.\n",
    "\n",
    "```python\n",
    "from django.shortcuts import render\n",
    "from django.http import HttpResponse\n",
    "\n",
    "def index(request):\n",
    "    return HttpResponse(\"Hello, World. You are at the polls index.\")\n",
    "```\n"
   ]
  },
  {
   "cell_type": "code",
   "execution_count": 3,
   "metadata": {},
   "outputs": [
    {
     "name": "stdout",
     "output_type": "stream",
     "text": [
      "from django.shortcuts import render\n",
      "from django.http import HttpResponse\n",
      "\n",
      "def index(request):\n",
      "    return HttpResponse(\"Hello, World. You are at the polls index.\")\n"
     ]
    }
   ],
   "source": [
    "# 작성 된 내용 확인\n",
    "!cat ../polls/views.py"
   ]
  },
  {
   "cell_type": "code",
   "execution_count": 4,
   "metadata": {},
   "outputs": [],
   "source": [
    "# Request 요청에 대한 Response 내용을 리턴 할 수 있다.\n",
    "# index 는 기본 요청 Endpoint 이다."
   ]
  },
  {
   "cell_type": "markdown",
   "metadata": {},
   "source": [
    "## 3. App 을 프로젝트에 연결\n",
    "\n",
    "사용자가 접속시 리다이렉션 되는 페이지를 설정하기 위해서는 url 정보를 프로젝트에 연결 시켜 주어야 한다.\n",
    "\n",
    "작성 방향은 App 내 생성된 urls.py 파일에 리다이렉트될 URL 정보를 기술하고 이를 Project URL에 포함하는 방식으로 적용 가능하다."
   ]
  },
  {
   "cell_type": "code",
   "execution_count": 6,
   "metadata": {},
   "outputs": [
    {
     "name": "stdout",
     "output_type": "stream",
     "text": [
      "from django.urls import path\n",
      "from . import views\n",
      "\n",
      "urlpatterns = [\n",
      "    path('', views.index, name='index'),\n",
      "]\n"
     ]
    }
   ],
   "source": [
    "# App 에 작성한 URL 정보를 확인\n",
    "!cat ../polls/urls.py"
   ]
  },
  {
   "cell_type": "code",
   "execution_count": 9,
   "metadata": {},
   "outputs": [
    {
     "name": "stdout",
     "output_type": "stream",
     "text": [
      "from django.contrib import admin\n",
      "from django.urls import include, path\n",
      "\n",
      "urlpatterns = [\n",
      "    path('polls/', include('polls.urls')), # include urls.py in apps\n",
      "    path('admin/', admin.site.urls),\n",
      "]\n"
     ]
    }
   ],
   "source": [
    "# 프로젝트 설정 정보 [urls.py] 에 App 내 작성된 URL 파일 Include 선언\n",
    "!cat ../config/urls.py"
   ]
  },
  {
   "cell_type": "code",
   "execution_count": null,
   "metadata": {},
   "outputs": [],
   "source": [
    "# 연결된 URL 과 서브 도메인 정보를 이용하여 접속 테스트\n",
    "!python manage.py runserver\n",
    "http://127.0.0.1:8000/polls/"
   ]
  }
 ],
 "metadata": {
  "kernelspec": {
   "display_name": "Python 3",
   "language": "python",
   "name": "python3"
  },
  "language_info": {
   "codemirror_mode": {
    "name": "ipython",
    "version": 3
   },
   "file_extension": ".py",
   "mimetype": "text/x-python",
   "name": "python",
   "nbconvert_exporter": "python",
   "pygments_lexer": "ipython3",
   "version": "3.7.3"
  }
 },
 "nbformat": 4,
 "nbformat_minor": 2
}
